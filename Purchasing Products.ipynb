{
 "cells": [
  {
   "cell_type": "markdown",
   "id": "391e5e8d",
   "metadata": {},
   "source": [
    "## Read Inventory"
   ]
  },
  {
   "cell_type": "code",
   "execution_count": 4,
   "id": "46d973ae",
   "metadata": {},
   "outputs": [],
   "source": [
    "import json\n",
    "import os\n",
    "from datetime import datetime"
   ]
  },
  {
   "cell_type": "code",
   "execution_count": 27,
   "id": "cfd8f350",
   "metadata": {},
   "outputs": [],
   "source": [
    "fd = open('record.json','r')\n",
    "r = fd.read()\n",
    "fd.close()"
   ]
  },
  {
   "cell_type": "code",
   "execution_count": 28,
   "id": "9b2872bc",
   "metadata": {},
   "outputs": [],
   "source": [
    "records = json.loads(r)"
   ]
  },
  {
   "cell_type": "code",
   "execution_count": 29,
   "id": "cfc3d353",
   "metadata": {},
   "outputs": [
    {
     "data": {
      "text/plain": [
       "{'1001': {'name': 'Choco Cake', 'qn': 33, 'pr': 100},\n",
       " '1002': {'name': 'Milk Cake', 'pr': 800, 'qn': 100},\n",
       " '1003': {'name': 'Drink', 'pr': 85, 'qn': 99},\n",
       " '1004': {'name': 'Candy', 'pr': 5, 'qn': 1000},\n",
       " '1005': {'name': 'Pen', 'pr': 20, 'qn': 100},\n",
       " '1006': {'name': 'Phone', 'pr': 50000, 'qn': 10},\n",
       " '1007': {'name': 'Mic', 'pr': 1500, 'qn': 0},\n",
       " '1008': {'name': 'Case', 'pr': 599, 'qn': 5},\n",
       " '1009': {'name': 'Keyboard', 'pr': 1999, 'qn': 10},\n",
       " '1010': {'name': 'Mouse', 'pr': 250, 'qn': 300},\n",
       " '1011': {'name': 'Redmi 7A', 'pr': 6500, 'qn': 3000},\n",
       " '1012': {'name': 'Samsung M10', 'pr': 9000, 'qn': 4000},\n",
       " '1013': {'name': 'A4 Paper', 'pr': 10, 'qn': 10000},\n",
       " '1014': {'name': 'Graph Paper(1 mm)', 'pr': 3, 'qn': 300},\n",
       " '1015': {'name': 'Calculator', 'pr': 400, 'qn': 50},\n",
       " '1016': {'name': 'Laptop', 'pr': 32000, 'qn': 300},\n",
       " '1017': {'name': 'iPhone', 'pr': 123000, 'qn': 700},\n",
       " '1018': {'name': 'Hair Oil', 'pr': 40, 'qn': 200},\n",
       " '1019': {'name': 'Earphones', 'pr': 230, 'qn': 66},\n",
       " '1020': {'name': 'Mixer Grinder', 'pr': 2300, 'qn': 437},\n",
       " '1021': {'name': 'Flash Light', 'pr': 300, 'qn': 8},\n",
       " '1022': {'name': 'Water Bottle', 'pr': 30, 'qn': 56},\n",
       " '1023': {'name': 'School Bag', 'pr': 546, 'qn': 6},\n",
       " '1024': {'name': 'Bicycle', 'pr': 670, 'qn': 4},\n",
       " '1025': {'name': 'Tubelight', 'pr': 70, 'qn': 11},\n",
       " '1026': {'name': 'Wrist Watch', 'pr': 60, 'qn': 22},\n",
       " '1027': {'name': 'Sunglass', 'pr': 20, 'qn': 3},\n",
       " '1028': {'name': 'Diary', 'pr': 30, 'qn': 49},\n",
       " '1029': {'name': 'Earrings', 'pr': 270, 'qn': 39},\n",
       " '1030': {'name': 'Shoes', 'pr': 350, 'qn': 14}}"
      ]
     },
     "execution_count": 29,
     "metadata": {},
     "output_type": "execute_result"
    }
   ],
   "source": [
    "records"
   ]
  },
  {
   "cell_type": "markdown",
   "id": "68597247",
   "metadata": {},
   "source": [
    "## Purchase"
   ]
  },
  {
   "cell_type": "code",
   "execution_count": 19,
   "id": "0cfecaf6",
   "metadata": {},
   "outputs": [
    {
     "name": "stdout",
     "output_type": "stream",
     "text": [
      "Enter the product_Id: 1007\n",
      "Sorry! This product is out of stock.\n"
     ]
    }
   ],
   "source": [
    "amt = 0\n",
    "count = 0\n",
    "while(True):\n",
    "    ui_prod  = input('Enter the product_Id: ')\n",
    "    if ui_prod.isdigit() == False:\n",
    "        print('Please re-enter the Product Id.')\n",
    "        continue\n",
    "    else:\n",
    "        if int(records[ui_prod]['qn']) == 0:\n",
    "            count = 1\n",
    "            print('Sorry! This product is out of stock.')\n",
    "            break\n",
    "        else:\n",
    "            ui_quant = int(input('Enter the quantity: '))\n",
    "            amt = records[ui_prod]['pr'] * ui_quant\n",
    "            print('Product Name.: ', records[ui_prod]['name'])\n",
    "            print('Product Price.: ', records[ui_prod]['pr'])\n",
    "            print('Billing Amount.: ', amt)\n",
    "            records[ui_prod]['qn'] = records[ui_prod]['qn'] - ui_quant\n",
    "            break"
   ]
  },
  {
   "cell_type": "code",
   "execution_count": 20,
   "id": "60305a8f",
   "metadata": {},
   "outputs": [
    {
     "data": {
      "text/plain": [
       "0"
      ]
     },
     "execution_count": 20,
     "metadata": {},
     "output_type": "execute_result"
    }
   ],
   "source": [
    "records[ui_prod]['qn']"
   ]
  },
  {
   "cell_type": "markdown",
   "id": "f9e192a7",
   "metadata": {},
   "source": [
    "\n",
    "## Update Inventory after purchase"
   ]
  },
  {
   "cell_type": "code",
   "execution_count": 21,
   "id": "4aa61a92",
   "metadata": {},
   "outputs": [],
   "source": [
    "js = json.dumps(records)\n",
    "\n",
    "fd = open('record.json','w')\n",
    "fd.write(js)\n",
    "fd.close()"
   ]
  },
  {
   "cell_type": "markdown",
   "id": "c3ce9592",
   "metadata": {},
   "source": [
    "## Sales JSON"
   ]
  },
  {
   "cell_type": "code",
   "execution_count": 22,
   "id": "768f70c3",
   "metadata": {},
   "outputs": [],
   "source": [
    "# Here we are checking if sales.json file previously exists or not. If yes, nothing happens to that file. If no, a empty \n",
    "# sale.json file is created.\n",
    "\n",
    "filec = os.path.exists('sales.json')\n",
    "if filec == False:\n",
    "    fh = open('sales.json', 'w')\n",
    "    fh.close()"
   ]
  },
  {
   "cell_type": "code",
   "execution_count": 23,
   "id": "e0d5fa9e",
   "metadata": {},
   "outputs": [],
   "source": [
    "# Here we are checking if a purchase was possible. If no, nothing happens to the sales.json file and a appropriate message is displayed on the console window. If yes, its checked if the files has\n",
    "# any content or not. If no, the purchase details are appended to the empty sales.json file along with the date and time of purchase.\n",
    "# If yes, purchase setails are just appended to the pre-existing purchase details in the sales.json file along with the date and time of purchase. \n",
    "\n",
    "def sales_record():\n",
    "    if count == 1:\n",
    "        pass\n",
    "    else:\n",
    "        now_time = datetime.now()\n",
    "        st_date = now_time.strftime('%x')\n",
    "        st_time = now_time.strftime('%I:%M:%S %p')\n",
    "        fh = open('sales.json', 'r')\n",
    "        r = fh.read()\n",
    "        fh.close()\n",
    "        l = len(r)\n",
    "        if l == 0:\n",
    "            sales = {}\n",
    "            sales[1] = {'Product ID':ui_prod, 'Quantity':ui_quant, 'Amount':amt, 'Date of Purchase':st_date, 'Time of Purchase':st_time}\n",
    "            sale = json.dumps(sales)\n",
    "            fh = open('sales.json', 'w')\n",
    "            r = fh.write(sale)\n",
    "            fh.close()\n",
    "        else:\n",
    "            sales = json.loads(r)\n",
    "            sales[len(sales.keys()) + 1] = {'Product ID':ui_prod, 'Quantity':ui_quant, 'Amount':amt, 'Date of Purchase':st_date, 'Time of Purchase':st_time}\n",
    "            sale = json.dumps(sales)\n",
    "            fh = open('sales.json', 'w')\n",
    "            r = fh.write(sale)\n",
    "            fh.close()\n"
   ]
  },
  {
   "cell_type": "code",
   "execution_count": 24,
   "id": "91ecf798",
   "metadata": {},
   "outputs": [],
   "source": [
    "#calling the update_record() function to add sales data to the sales.json file\n",
    "sales_record()"
   ]
  },
  {
   "cell_type": "code",
   "execution_count": 25,
   "id": "85db3b54",
   "metadata": {},
   "outputs": [],
   "source": [
    "# checking the content of sale.json file.\n",
    "fh = open('sales.json', 'r')\n",
    "r = fh.read()\n",
    "fh.close()"
   ]
  },
  {
   "cell_type": "code",
   "execution_count": 26,
   "id": "44adffe2",
   "metadata": {},
   "outputs": [
    {
     "name": "stdout",
     "output_type": "stream",
     "text": [
      "{'1': {'Product ID': '1001', 'Quantity': 1, 'Amount': 100, 'Date of Purchase': '09/06/21', 'Time of Purchase': '03:35:59 PM'}, '2': {'Product ID': '1003', 'Quantity': 1, 'Amount': 85, 'Date of Purchase': '09/06/21', 'Time of Purchase': '03:36:55 PM'}, '3': {'Product ID': '1019', 'Quantity': 1, 'Amount': 230, 'Date of Purchase': '09/06/21', 'Time of Purchase': '03:39:27 PM'}, '4': {'Product ID': '1030', 'Quantity': 1, 'Amount': 350, 'Date of Purchase': '09/06/21', 'Time of Purchase': '03:50:46 PM'}, '5': {'Product ID': '1025', 'Quantity': 1, 'Amount': 70, 'Date of Purchase': '09/06/21', 'Time of Purchase': '03:57:09 PM'}, '6': {'Product ID': '1026', 'Quantity': 1, 'Amount': 60, 'Date of Purchase': '09/06/21', 'Time of Purchase': '03:57:45 PM'}, '7': {'Product ID': '1029', 'Quantity': 1, 'Amount': 270, 'Date of Purchase': '09/06/21', 'Time of Purchase': '03:58:23 PM'}, '8': {'Product ID': '1028', 'Quantity': 1, 'Amount': 30, 'Date of Purchase': '09/06/21', 'Time of Purchase': '03:58:42 PM'}, '9': {'Product ID': '1027', 'Quantity': 1, 'Amount': 20, 'Date of Purchase': '09/06/21', 'Time of Purchase': '03:59:35 PM'}, '10': {'Product ID': '1026', 'Quantity': 1, 'Amount': 60, 'Date of Purchase': '09/06/21', 'Time of Purchase': '03:59:54 PM'}, '11': {'Product ID': '1030', 'Quantity': 1, 'Amount': 350, 'Date of Purchase': '09/06/21', 'Time of Purchase': '04:05:14 PM'}}\n"
     ]
    }
   ],
   "source": [
    "js = json.loads(r)\n",
    "print(js)"
   ]
  },
  {
   "cell_type": "code",
   "execution_count": null,
   "id": "fc925ddb",
   "metadata": {},
   "outputs": [],
   "source": []
  },
  {
   "cell_type": "code",
   "execution_count": null,
   "id": "ef04ec4c",
   "metadata": {},
   "outputs": [],
   "source": []
  }
 ],
 "metadata": {
  "kernelspec": {
   "display_name": "Python 3",
   "language": "python",
   "name": "python3"
  },
  "language_info": {
   "codemirror_mode": {
    "name": "ipython",
    "version": 3
   },
   "file_extension": ".py",
   "mimetype": "text/x-python",
   "name": "python",
   "nbconvert_exporter": "python",
   "pygments_lexer": "ipython3",
   "version": "3.9.7"
  }
 },
 "nbformat": 4,
 "nbformat_minor": 5
}
