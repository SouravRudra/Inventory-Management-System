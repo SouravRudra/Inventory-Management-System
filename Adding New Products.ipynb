{
 "cells": [
  {
   "cell_type": "markdown",
   "id": "f39d3a72",
   "metadata": {},
   "source": [
    "## Read Inventory"
   ]
  },
  {
   "cell_type": "code",
   "execution_count": 1,
   "id": "9d9dd681",
   "metadata": {},
   "outputs": [],
   "source": [
    "import json"
   ]
  },
  {
   "cell_type": "code",
   "execution_count": 2,
   "id": "fbda8b69",
   "metadata": {},
   "outputs": [],
   "source": [
    "fh = open('record.json', 'r')\n",
    "r = fh.read()\n",
    "fh.close()"
   ]
  },
  {
   "cell_type": "code",
   "execution_count": 3,
   "id": "ca15b6bf",
   "metadata": {},
   "outputs": [],
   "source": [
    "record = json.loads(r)"
   ]
  },
  {
   "cell_type": "code",
   "execution_count": 4,
   "id": "79af7796",
   "metadata": {},
   "outputs": [
    {
     "data": {
      "text/plain": [
       "{'1001': {'name': 'Choco Cake', 'qn': 34, 'pr': 100},\n",
       " '1002': {'name': 'Milk Cake', 'pr': 800, 'qn': 100},\n",
       " '1003': {'name': 'Drink', 'pr': 85, 'qn': 100},\n",
       " '1004': {'name': 'Candy', 'pr': 5, 'qn': 1000},\n",
       " '1005': {'name': 'Pen', 'pr': 20, 'qn': 100},\n",
       " '1006': {'name': 'Phone', 'pr': 50000, 'qn': 10},\n",
       " '1007': {'name': 'Mic', 'pr': 1500, 'qn': 0},\n",
       " '1008': {'name': 'Case', 'pr': 599, 'qn': 5},\n",
       " '1009': {'name': 'Keyboard', 'pr': 1999, 'qn': 10}}"
      ]
     },
     "execution_count": 4,
     "metadata": {},
     "output_type": "execute_result"
    }
   ],
   "source": [
    "record"
   ]
  },
  {
   "cell_type": "markdown",
   "id": "39ed40ce",
   "metadata": {},
   "source": [
    "## Add New Item into Inventory"
   ]
  },
  {
   "cell_type": "code",
   "execution_count": 8,
   "id": "4d709fa5",
   "metadata": {},
   "outputs": [],
   "source": [
    "# We create new_prod() function to easily add new products and update esiting once by just calling this function once.\n",
    "def new_prod():\n",
    "    while(True):\n",
    "        check = input('If you want to add a item to the inventory, press \\'y\\', else press any other alphanumeric character.: ')\n",
    "        if check == 'y':\n",
    "            while(True):\n",
    "                prod_id = input('Enter Product ID.: ')\n",
    "                if prod_id.isdigit() == False:\n",
    "                    print('Please Enter Product ID with all its characters as digits.')\n",
    "                else:\n",
    "                    break\n",
    "            name = input('Enter Product Name.: ')\n",
    "            while(True):\n",
    "                pr = input('Enter Product Price.: ')\n",
    "                if pr.isdigit() == False:\n",
    "                    print('Please Enter Product price with all its characters as digits.')\n",
    "                else:\n",
    "                    pr = int(pr)\n",
    "                    break\n",
    "            while(True):\n",
    "                qn = input('Enter Product Quantity.: ')\n",
    "                if qn.isdigit() == False:\n",
    "                    print('Please Enter Product quantity with all its characters as digits.')\n",
    "                else:\n",
    "                    qn = int(qn)\n",
    "                    break\n",
    "            if prod_id in record.keys():\n",
    "                record[prod_id][qn] = record[prod_id][qn] + qn\n",
    "            else:\n",
    "                record[prod_id] = {'name':name, 'pr':pr, 'qn':qn}\n",
    "        else:\n",
    "            break\n",
    "# We create update_record() function to update the record.json file.\n",
    "\n",
    "def update_record():\n",
    "    js = json.dumps(record)\n",
    "    fh = open('record.json', 'w')\n",
    "    fh.write(js)\n",
    "    fh.close()"
   ]
  },
  {
   "cell_type": "code",
   "execution_count": 9,
   "id": "caa5dfa6",
   "metadata": {},
   "outputs": [
    {
     "name": "stdout",
     "output_type": "stream",
     "text": [
      "If you want to add a item to the inventory, press 'y', else press any other alphanumeric character.: y\n",
      "Enter Product ID.: 1010\n",
      "Enter Product Name.: Mouse\n",
      "Enter Product Price.: 250\n",
      "Enter Product Quantity.: 300\n",
      "If you want to add a item to the inventory, press 'y', else press any other alphanumeric character.: y\n",
      "Enter Product ID.: 1011\n",
      "Enter Product Name.: Redmi 7A\n",
      "Enter Product Price.: 6500\n",
      "Enter Product Quantity.: 3000\n",
      "If you want to add a item to the inventory, press 'y', else press any other alphanumeric character.: y\n",
      "Enter Product ID.: k\n",
      "Please Enter Product ID with all its characters as digits.\n",
      "Enter Product ID.: 1012\n",
      "Enter Product Name.: Samsung M10\n",
      "Enter Product Price.: 9000\n",
      "Enter Product Quantity.: 4000\n",
      "If you want to add a item to the inventory, press 'y', else press any other alphanumeric character.: y\n",
      "Enter Product ID.: 1013\n",
      "Enter Product Name.: A4 Paper\n",
      "Enter Product Price.: 10\n",
      "Enter Product Quantity.: 10000\n",
      "If you want to add a item to the inventory, press 'y', else press any other alphanumeric character.: y\n",
      "Enter Product ID.: 1014\n",
      "Enter Product Name.: Graph Paper(1 mm)\n",
      "Enter Product Price.: 3\n",
      "Enter Product Quantity.: 300\n",
      "If you want to add a item to the inventory, press 'y', else press any other alphanumeric character.: y\n",
      "Enter Product ID.: 1015\n",
      "Enter Product Name.: Calculator\n",
      "Enter Product Price.: 400\n",
      "Enter Product Quantity.: 50\n",
      "If you want to add a item to the inventory, press 'y', else press any other alphanumeric character.: y\n",
      "Enter Product ID.: Laptop\n",
      "Please Enter Product ID with all its characters as digits.\n",
      "Enter Product ID.: 1016\n",
      "Enter Product Name.: Laptop\n",
      "Enter Product Price.: 32000\n",
      "Enter Product Quantity.: 300\n",
      "If you want to add a item to the inventory, press 'y', else press any other alphanumeric character.: y\n",
      "Enter Product ID.: 1017\n",
      "Enter Product Name.: iPhone\n",
      "Enter Product Price.: 123000\n",
      "Enter Product Quantity.: 700\n",
      "If you want to add a item to the inventory, press 'y', else press any other alphanumeric character.: y\n",
      "Enter Product ID.: 1018\n",
      "Enter Product Name.: Hair Oil\n",
      "Enter Product Price.: 40\n",
      "Enter Product Quantity.: 200\n",
      "If you want to add a item to the inventory, press 'y', else press any other alphanumeric character.: y\n",
      "Enter Product ID.: 1019\n",
      "Enter Product Name.: Earphones\n",
      "Enter Product Price.: 230\n",
      "Enter Product Quantity.: 67\n",
      "If you want to add a item to the inventory, press 'y', else press any other alphanumeric character.: y\n",
      "Enter Product ID.: 1020\n",
      "Enter Product Name.: Mixer Grinder\n",
      "Enter Product Price.: 2300\n",
      "Enter Product Quantity.: 437\n",
      "If you want to add a item to the inventory, press 'y', else press any other alphanumeric character.: y\n",
      "Enter Product ID.: 1021\n",
      "Enter Product Name.: Flash Light\n",
      "Enter Product Price.: 300\n",
      "Enter Product Quantity.: 8\n",
      "If you want to add a item to the inventory, press 'y', else press any other alphanumeric character.: y\n",
      "Enter Product ID.: 1022\n",
      "Enter Product Name.: Water Bottle\n",
      "Enter Product Price.: 30\n",
      "Enter Product Quantity.: 56\n",
      "If you want to add a item to the inventory, press 'y', else press any other alphanumeric character.: y\n",
      "Enter Product ID.: 1023\n",
      "Enter Product Name.: School Bag\n",
      "Enter Product Price.: 546\n",
      "Enter Product Quantity.: 6\n",
      "If you want to add a item to the inventory, press 'y', else press any other alphanumeric character.: y\n",
      "Enter Product ID.: 1024\n",
      "Enter Product Name.: Bicycle\n",
      "Enter Product Price.: 670\n",
      "Enter Product Quantity.: 4\n",
      "If you want to add a item to the inventory, press 'y', else press any other alphanumeric character.: y\n",
      "Enter Product ID.: 1025\n",
      "Enter Product Name.: Tubelight\n",
      "Enter Product Price.: 70\n",
      "Enter Product Quantity.: 12\n",
      "If you want to add a item to the inventory, press 'y', else press any other alphanumeric character.: y\n",
      "Enter Product ID.: 1026\n",
      "Enter Product Name.: Wrist Watch\n",
      "Enter Product Price.: 60\n",
      "Enter Product Quantity.: 24\n",
      "If you want to add a item to the inventory, press 'y', else press any other alphanumeric character.: y\n",
      "Enter Product ID.: 1027\n",
      "Enter Product Name.: Sunglass\n",
      "Enter Product Price.: 20\n",
      "Enter Product Quantity.: 4\n",
      "If you want to add a item to the inventory, press 'y', else press any other alphanumeric character.: y\n",
      "Enter Product ID.: 1028\n",
      "Enter Product Name.: Diary\n",
      "Enter Product Price.: 30\n",
      "Enter Product Quantity.: 50\n",
      "If you want to add a item to the inventory, press 'y', else press any other alphanumeric character.: y\n",
      "Enter Product ID.: 1029\n",
      "Enter Product Name.: Earrings\n",
      "Enter Product Price.: 270\n",
      "Enter Product Quantity.: 40\n",
      "If you want to add a item to the inventory, press 'y', else press any other alphanumeric character.: y\n",
      "Enter Product ID.: 1030\n",
      "Enter Product Name.: Shoes\n",
      "Enter Product Price.: 350\n",
      "Enter Product Quantity.: 16\n",
      "If you want to add a item to the inventory, press 'y', else press any other alphanumeric character.: n\n"
     ]
    }
   ],
   "source": [
    "new_prod()"
   ]
  },
  {
   "cell_type": "code",
   "execution_count": 10,
   "id": "d9baf2bd",
   "metadata": {},
   "outputs": [],
   "source": [
    "update_record()"
   ]
  },
  {
   "cell_type": "code",
   "execution_count": null,
   "id": "043b5e17",
   "metadata": {},
   "outputs": [],
   "source": []
  }
 ],
 "metadata": {
  "kernelspec": {
   "display_name": "Python 3",
   "language": "python",
   "name": "python3"
  },
  "language_info": {
   "codemirror_mode": {
    "name": "ipython",
    "version": 3
   },
   "file_extension": ".py",
   "mimetype": "text/x-python",
   "name": "python",
   "nbconvert_exporter": "python",
   "pygments_lexer": "ipython3",
   "version": "3.9.7"
  }
 },
 "nbformat": 4,
 "nbformat_minor": 5
}
